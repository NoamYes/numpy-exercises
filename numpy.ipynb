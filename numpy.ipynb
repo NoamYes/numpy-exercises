{
 "cells": [
  {
   "attachments": {},
   "cell_type": "markdown",
   "metadata": {},
   "source": [
    "Exercise 1 "
   ]
  },
  {
   "cell_type": "code",
   "execution_count": null,
   "metadata": {},
   "outputs": [],
   "source": [
    "# Ex1 \n",
    "# Import numpy \n",
    "\n",
    "import numpy as np"
   ]
  },
  {
   "cell_type": "code",
   "execution_count": null,
   "metadata": {},
   "outputs": [],
   "source": [
    "# Ex2 \n",
    "# Print numpy version and the configuration\n",
    "\n",
    "print(np.__version__)\n",
    "np.__config__.show()"
   ]
  },
  {
   "cell_type": "code",
   "execution_count": null,
   "metadata": {},
   "outputs": [],
   "source": [
    "# Ex3\n",
    "# Create a null vector of size 10\n",
    "null_vec = np.zeros(10)\n",
    "print(null_vec)"
   ]
  },
  {
   "cell_type": "code",
   "execution_count": null,
   "metadata": {},
   "outputs": [],
   "source": [
    "# Ex4\n",
    "# Create a null vector of size 10 but the fifth value which is 1\n",
    "null_vec = np.zeros(10)\n",
    "null_vec[4] = 1"
   ]
  },
  {
   "cell_type": "code",
   "execution_count": null,
   "metadata": {},
   "outputs": [],
   "source": [
    "# Ex5\n",
    "# Create a vector with values ranging from 10 to 49\n",
    "vec = np.arange(10, 50)\n",
    "print(vec)"
   ]
  },
  {
   "cell_type": "code",
   "execution_count": null,
   "metadata": {},
   "outputs": [],
   "source": [
    "# Ex6\n",
    "# Create a 3x3 matrix with values ranging from 0 to 8\n",
    "mat = np.arange(9).reshape(3, 3) "
   ]
  },
  {
   "cell_type": "code",
   "execution_count": null,
   "metadata": {},
   "outputs": [],
   "source": [
    "# Ex7\n",
    "# Find indices of non-zero elements from [1,2,0,0,4,0]\n",
    "\n",
    "nz = np.nonzero([1,2,0,0,4,0])\n",
    "print(nz)"
   ]
  },
  {
   "cell_type": "code",
   "execution_count": null,
   "metadata": {},
   "outputs": [],
   "source": [
    "# Ex8\n",
    "# Create a 3x3 identity matrix\n",
    "\n",
    "mat = np.eye(3)\n",
    "print(mat)"
   ]
  },
  {
   "cell_type": "code",
   "execution_count": null,
   "metadata": {},
   "outputs": [],
   "source": [
    "# Ex9\n",
    "# Create a 5x5 matrix with values 1,2,3,4 just below the diagonal\n",
    "\n",
    "mat = np.diag(1+np.arange(4), k=-1)\n",
    "print(mat)"
   ]
  },
  {
   "cell_type": "code",
   "execution_count": null,
   "metadata": {},
   "outputs": [],
   "source": [
    "# Ex10\n",
    "# Create a 3x3x3 array with random values between 0 and 1\n",
    "\n",
    "arr = np.random.random((3,3,3))\n",
    "print(arr)"
   ]
  },
  {
   "cell_type": "code",
   "execution_count": null,
   "metadata": {},
   "outputs": [],
   "source": [
    "# Ex11\n",
    "# Create a 8x8 matrix and fill it with a checkerboard pattern\n",
    "\n",
    "arr = np.zeros(8*8, dtype=int)\n",
    "arr[::2] = 1\n",
    "arr[1::2] = 0\n",
    "mat = arr.reshape(8,8)\n",
    "print(mat)\n"
   ]
  },
  {
   "cell_type": "code",
   "execution_count": null,
   "metadata": {},
   "outputs": [],
   "source": [
    "# Ex12\n",
    "# Create a 10x10 array with random values and find the minimum and maximum values\n",
    "\n",
    "arr = np.random.random((10,10))\n",
    "min_val, max_val = arr.min(), arr.max()\n",
    "print(min_val, max_val)"
   ]
  },
  {
   "cell_type": "code",
   "execution_count": null,
   "metadata": {},
   "outputs": [],
   "source": [
    "# Ex13\n",
    "# Create a checkerboard 8x8 matrix using the tile function\n",
    "\n",
    "arr = np.tile(np.array([[0,1],[1,0]]), (4,4))\n",
    "print(arr)"
   ]
  },
  {
   "cell_type": "code",
   "execution_count": null,
   "metadata": {},
   "outputs": [],
   "source": [
    "# Ex14\n",
    "# Normalize a 5x5 random matrix (between 0 and 1)\n",
    "\n",
    "mat = np.random.random((5,5))\n",
    "mat = (mat - np.min(mat)) / (np.max(mat) - np.min(mat))\n",
    "print(mat)\n",
    "\n"
   ]
  },
  {
   "cell_type": "code",
   "execution_count": null,
   "metadata": {},
   "outputs": [],
   "source": [
    "# Ex15\n",
    "# Multiply a 5x3 matrix by a 3x2 matrix (real matrix product)\n",
    "\n",
    "mat1 = np.random.random((5,3))\n",
    "mat2 = np.random.random((3,2))\n",
    "mat = np.dot(mat1, mat2)\n",
    "print(mat)"
   ]
  },
  {
   "cell_type": "code",
   "execution_count": null,
   "metadata": {},
   "outputs": [],
   "source": [
    "# Ex16\n",
    "# Create a 5x5 matrix with row values ranging from 0 to 4\n",
    "\n",
    "mat = np.zeros((5,5))\n",
    "mat += np.arange(5)\n",
    "print(mat)"
   ]
  },
  {
   "cell_type": "code",
   "execution_count": null,
   "metadata": {},
   "outputs": [],
   "source": [
    "# Ex17\n",
    "# Create a vector of size 10 with values ranging from 0 to 1, both excluded\n",
    "\n",
    "vec = np.arange(0, 12, 1)[1:-1]/12\n",
    "print(vec)"
   ]
  },
  {
   "cell_type": "code",
   "execution_count": null,
   "metadata": {},
   "outputs": [],
   "source": [
    "# Ex18\n",
    "# Create a random vector of size 10 and sort it\n",
    "\n",
    "vec = np.random.random(10)\n",
    "print(vec)"
   ]
  },
  {
   "cell_type": "code",
   "execution_count": null,
   "metadata": {},
   "outputs": [],
   "source": [
    "# Ex19\n",
    "# Consider two random array A and B, check if they are equal\n",
    "\n",
    "A = np.random.randint(0,2,5)\n",
    "B = np.random.randint(0,2,5)\n",
    "equal = np.allclose(A,B)\n",
    "print(equal)\n"
   ]
  },
  {
   "cell_type": "code",
   "execution_count": null,
   "metadata": {},
   "outputs": [],
   "source": [
    "# Ex20\n",
    "# Create a random vector of size 30 and find the mean value\n",
    "\n",
    "vec = np.random.random(30)\n",
    "mean = vec.mean()\n",
    "print(mean)"
   ]
  },
  {
   "cell_type": "code",
   "execution_count": null,
   "metadata": {},
   "outputs": [],
   "source": [
    "# Ex21\n",
    "# Make an array immutable (read-only)\n",
    "\n",
    "a = np.arange(10)\n",
    "a.flags.writeable = False\n",
    "try:\n",
    "    a[0] = 1\n",
    "except ValueError as e:\n",
    "    assert str(e) == \"assignment destination is read-only\"\n",
    "    print(e)"
   ]
  },
  {
   "cell_type": "code",
   "execution_count": null,
   "metadata": {},
   "outputs": [],
   "source": [
    "# Ex22\n",
    "# Consider a random 10x2 matrix representing cartesian coordinates, convert them to polar coordinates\n",
    "\n",
    "def polar_from_cartesian(x, y):\n",
    "    r = np.sqrt(x**2 + y**2)\n",
    "    t = np.arctan2(y, x)\n",
    "    return r, t\n",
    "\n",
    "mat = np.random.random((10,2))\n",
    "mat_polar = np.apply_along_axis(polar_from_cartesian, 0, mat[:,0], mat[:,1]).T\n",
    "print(mat_polar)\n",
    "print(mat_polar.shape)\n",
    "\n"
   ]
  },
  {
   "cell_type": "code",
   "execution_count": null,
   "metadata": {},
   "outputs": [],
   "source": [
    "# Ex23\n",
    "# Create random vector of size 10 and replace the maximum value by 0\n",
    "\n",
    "vec = np.random.random(10)\n",
    "vec[vec.argmax()] = 0\n",
    "print(vec)"
   ]
  },
  {
   "cell_type": "code",
   "execution_count": null,
   "metadata": {},
   "outputs": [],
   "source": [
    "# Ex24\n",
    "# Create a structured array with x and y coordinates covering the [0,1]x[0,1] area\n",
    "\n",
    "arr = np.zeros((5,5), [('x',float),('y',float)])\n",
    "arr['x'], arr['y'] = np.meshgrid(np.linspace(0,1,5),\n",
    "                                    np.linspace(0,1,5))\n",
    "print(arr)"
   ]
  },
  {
   "cell_type": "code",
   "execution_count": null,
   "metadata": {},
   "outputs": [],
   "source": [
    "# Ex25\n",
    "# Print the minimum and maximum representable value for each numpy scalar type\n",
    "\n",
    "for dtype in [np.int8, np.int32, np.int64]:\n",
    "    print(dtype, 'min', np.iinfo(dtype).min)\n",
    "    print(dtype, 'max', np.iinfo(dtype).max)"
   ]
  },
  {
   "cell_type": "code",
   "execution_count": null,
   "metadata": {},
   "outputs": [],
   "source": [
    "# Ex26\n",
    "# Create a structured array representing a position (x,y) and a color (r,g,b)\n",
    "\n",
    "arr = np.zeros(10, [('position', [ ('x', float, 1),\n",
    "                                    ('y', float, 1)]),\n",
    "                    ('color',    [ ('r', float, 1), \n",
    "                                  ('g', float, 1),\n",
    "                                  ('b', float, 1) ] )\n",
    "])\n",
    "print(arr)\n",
    "\n"
   ]
  },
  {
   "cell_type": "code",
   "execution_count": null,
   "metadata": {},
   "outputs": [],
   "source": [
    "# Ex27\n",
    "# Consider a random vector with shape (100,2) representing coordinates, find point by point distances\n",
    "\n",
    "vec = np.random.random((10,2))\n",
    "dist_point_mat = np.sqrt( (vec[:,np.newaxis,:] - vec[np.newaxis,:,:])**2 ).sum(axis=-1)\n",
    "# print(dist_point_mat)\n",
    "assert np.allclose(dist_point_mat, dist_point_mat.T)\n",
    "assert np.allclose(dist_point_mat.diagonal(), 0)"
   ]
  },
  {
   "cell_type": "code",
   "execution_count": null,
   "metadata": {},
   "outputs": [],
   "source": [
    "# Ex28\n",
    "# Generate a generic 2D Gaussian-like array\n",
    "\n",
    "x, y = np.meshgrid(np.linspace(-1,1,10), np.linspace(-1,1,10))\n",
    "d = np.sqrt(x**2+y**2)\n",
    "sigma, mu = 1.0, 0.0\n",
    "\n",
    "gauss = np.exp(-( (d-mu)**2 / ( 2.0 * sigma**2 ) ) )\n",
    "print(gauss)"
   ]
  },
  {
   "cell_type": "code",
   "execution_count": null,
   "metadata": {},
   "outputs": [],
   "source": [
    "# Ex29\n",
    "# Subtract the mean of each row of a matrix\n",
    "\n",
    "mat = np.random.random((5,10))\n",
    "mat = mat - mat.mean(axis=1, keepdims=True)\n",
    "# print(mat)\n",
    "assert np.allclose(mat.mean(axis=1), 0)"
   ]
  },
  {
   "cell_type": "code",
   "execution_count": null,
   "metadata": {},
   "outputs": [],
   "source": [
    "# Ex30\n",
    "# How to tell if a given 2D array has null columns\n",
    "\n",
    "mat = np.random.randint(0,3,(3,3))\n",
    "print(mat)\n",
    "print((~mat.any(axis=0)).any())\n",
    "\n"
   ]
  },
  {
   "cell_type": "code",
   "execution_count": null,
   "metadata": {},
   "outputs": [],
   "source": [
    "# Ex31\n",
    "# Find the nearest value from a given value in an array\n",
    "\n",
    "arr = np.random.uniform(0,1,10)\n",
    "val = 0.5\n",
    "idx = (np.abs(arr-val)).argmin()\n",
    "print(arr[idx])"
   ]
  },
  {
   "cell_type": "code",
   "execution_count": null,
   "metadata": {},
   "outputs": [],
   "source": [
    "# Ex32\n",
    "# Consider the following file, how to read it using numpy?\n",
    "\n",
    "# 1,2,3,4,5\n",
    "# 6,,7,8,9\n",
    "# ,,9,10,11\n",
    "\n",
    "text = \"\"\"1,2,3,4,5\n",
    "6,,7,8,9\n",
    ",,9,10,11\"\"\"\n",
    "\n",
    "# write the text to file\n",
    "with open('test.txt', 'w') as f:\n",
    "    f.write(text)\n",
    "\n",
    "arr = np.genfromtxt('test.txt', delimiter=',')\n",
    "print(arr)\n"
   ]
  },
  {
   "cell_type": "code",
   "execution_count": null,
   "metadata": {},
   "outputs": [],
   "source": [
    "# Ex33\n",
    "# Consider a generator function that generates 10 integers and use it to build an array\n",
    "\n",
    "def generate():\n",
    "    for x in range(10):\n",
    "        yield x\n",
    "\n",
    "arr = np.fromiter(generate(), dtype=float, count=-1)\n",
    "# print(arr)\n",
    "assert np.allclose(arr, np.arange(10))\n",
    "\n"
   ]
  },
  {
   "cell_type": "code",
   "execution_count": null,
   "metadata": {},
   "outputs": [],
   "source": [
    "# Ex34\n",
    "# Consider a given vector, how to add 1 to each element indexed by a second vector (be careful with repeated indices)\n",
    "\n",
    "vec = np.ones(10)\n",
    "idx = np.random.randint(0,len(vec),20)\n",
    "vec += np.bincount(idx, minlength=len(vec))\n",
    "assert np.sum(vec) == 30"
   ]
  },
  {
   "cell_type": "code",
   "execution_count": null,
   "metadata": {},
   "outputs": [],
   "source": [
    "# Ex35\n",
    "# How to accumulate elements of a vector (X) to an array (F) based on an index list (I)?\n",
    "\n",
    "X = np.array([1,2,3,4,5,6])\n",
    "I = [1,3,9, 3, 4, 1]\n",
    "F = np.bincount(I, weights=X)\n",
    "print(F)\n"
   ]
  },
  {
   "cell_type": "code",
   "execution_count": null,
   "metadata": {},
   "outputs": [],
   "source": [
    "# Ex36\n",
    "# Considering a (w,h,3) image of (dtype=ubyte), compute the number of unique colors\n",
    "\n",
    "w, h = 16, 16\n",
    "I = np.random.randint(0,2,(w,h,3)).astype(np.ubyte)\n",
    "# print(I)\n",
    "num_unique_colors = len(np.unique(I.reshape(-1, I.shape[-1]), axis=0))\n",
    "print(num_unique_colors)\n"
   ]
  },
  {
   "cell_type": "code",
   "execution_count": null,
   "metadata": {},
   "outputs": [],
   "source": [
    "# Ex37\n",
    "# Considering a four dimensions array, how to get sum over the last two axis at once?\n",
    "\n",
    "arr = np.random.randint(0,10,(3,4,3,4))\n",
    "sum1 = arr.reshape(arr.shape[:-2] + (-1,)).sum(axis=-1)\n",
    "sum2 = arr.sum(axis=(-2,-1))\n",
    "\n",
    "assert np.allclose(sum1, sum2)"
   ]
  },
  {
   "cell_type": "code",
   "execution_count": null,
   "metadata": {},
   "outputs": [],
   "source": [
    "# Ex38\n",
    "# Considering a one-dimensional vector D, how to compute means of subsets of D using a vector S of same size describing subset indices?\n",
    "\n",
    "D = np.random.uniform(0,1,100)\n",
    "# S is a vector of subset indices\n",
    "S = np.random.randint(0,10,100)\n",
    "\n",
    "mean_subsets = np.bincount(S, weights=D) / np.bincount(S)"
   ]
  },
  {
   "cell_type": "code",
   "execution_count": null,
   "metadata": {},
   "outputs": [],
   "source": [
    "# Ex39\n",
    "# How to get the diagonal of a dot product?\n",
    "\n",
    "A = np.random.uniform(0,1,(5,5))\n",
    "B = np.random.uniform(0,1,(5,5))\n",
    "diag = np.einsum('ij,ji->i', A, B)\n",
    "print(diag)\n"
   ]
  },
  {
   "cell_type": "code",
   "execution_count": null,
   "metadata": {},
   "outputs": [],
   "source": [
    "# Ex40\n",
    "# Consider the vector [1, 2, 3, 4, 5], how to build a new vector with 3 consecutive zeros interleaved between each value?\n",
    "\n",
    "vec = np.array([1,2,3,4,5])\n",
    "n = 3\n",
    "vec1 = np.zeros(len(vec) + (len(vec)-1)*(n))    \n",
    "vec1[::n+1] = vec\n",
    "print(vec1)"
   ]
  },
  {
   "cell_type": "code",
   "execution_count": null,
   "metadata": {},
   "outputs": [],
   "source": [
    "# Ex41\n",
    "# Consider an array of dimension (5,5,3), how to mulitply it by an array with dimensions (5,5)?\n",
    "\n",
    "# compare 4 multiplications with time \n",
    "arr = np.ones((5,5,3))\n",
    "arr1 = 2*np.ones((5,5))\n",
    "mul1 = arr * arr1[:,:,None]\n",
    "mul2 = arr * arr1[...,np.newaxis]\n",
    "mul3 = arr * np.expand_dims(arr1, axis=-1)\n",
    "mul4 = np.einsum('ijk,ij->ijk', arr, arr1)\n",
    "assert np.allclose(mul1, mul2, mul3, mul4)\n",
    "# print(arr)\n"
   ]
  },
  {
   "cell_type": "code",
   "execution_count": null,
   "metadata": {},
   "outputs": [],
   "source": [
    "# Ex42\n",
    "# How to swap two rows of an array?\n",
    "\n",
    "arr = np.arange(9).reshape(3,3)\n",
    "# print(arr)\n",
    "arr[[0,1]] = arr[[1,0]]\n",
    "# print(arr)"
   ]
  },
  {
   "cell_type": "code",
   "execution_count": null,
   "metadata": {},
   "outputs": [],
   "source": [
    "# Ex43\n",
    "# Consider a set of 10 triplets describing 10 triangles (with shared vertices), find the set of unique line segments composing all the triangles\n",
    "\n",
    "# TODO\n",
    "\n"
   ]
  },
  {
   "cell_type": "code",
   "execution_count": null,
   "metadata": {},
   "outputs": [],
   "source": [
    "# Ex52\n",
    "# Consider 2 sets of points P0,P1 describing lines (2d) and a point p, how to compute distance from p to each line i (P0[i],P1[i])?\n",
    "\n",
    "P0 = np.random.uniform(-10,10,(10,2))\n",
    "P1 = np.random.uniform(-10,10,(10,2))\n",
    "\n",
    "p = (1,1)\n",
    "\n",
    "def point_line_distnce(p0, p1, p):\n",
    "    return np.abs(np.cross(p1-p0, p0-p)) / np.linalg.norm(p1-p0)\n",
    "\n",
    "distances = np.array([point_line_distnce(p0, p1, p) for p0, p1 in zip(P0, P1)])\n",
    "print(distances)\n",
    "\n",
    "\n",
    "\n"
   ]
  },
  {
   "cell_type": "code",
   "execution_count": null,
   "metadata": {},
   "outputs": [],
   "source": [
    "# Ex55\n",
    "# Consider two arrays A and B of shape (8,3) and (2,2). How to find rows of A that contain elements of each row of B regardless of the order of the elements in B?\n",
    "\n",
    "A = np.random.randint(0,10,(8,3))\n",
    "B = np.random.randint(0,10,(3,3))\n",
    "\n",
    "rows = np.where(np.all(np.isin(A, B), axis=1))[0]\n",
    "print(rows)\n",
    "\n"
   ]
  },
  {
   "cell_type": "code",
   "execution_count": null,
   "metadata": {},
   "outputs": [],
   "source": [
    "# Ex57\n",
    "# Create a 2D numpy array subclass such that Z[i,j] == Z[j,i] \n",
    "\n",
    "class Symetric(np.ndarray):\n",
    "    def __setitem__(self, key, value):\n",
    "        super().__setitem__(key, value)\n",
    "        super().__setitem__(key[::-1], value)\n",
    "\n",
    "def symetric(Z):\n",
    "    return np.asarray(Z + Z.T - np.diag(Z.diagonal())).view(Symetric)\n",
    "\n",
    "Z = symetric(np.random.randint(0,10,(5,5)))\n",
    "Z[2,3] = 42\n",
    "# print(Z)\n",
    "assert np.allclose(Z, Z.T)\n",
    "        \n",
    "\n"
   ]
  },
  {
   "cell_type": "code",
   "execution_count": null,
   "metadata": {},
   "outputs": [],
   "source": [
    "# Ex58\n",
    "# Consider a set of p matrices wich shape (n,n) and a set of p vectors with shape (n,1). How to compute the sum of of the p matrix products at once? (result has shape (n,1))\n",
    "\n",
    "p, n = 10, 20\n",
    "matrices = np.random.uniform(0,1,(p,n,n))\n",
    "vectors = np.random.uniform(0,1,(p,n,1))\n",
    "\n",
    "result1 = np.einsum('ijk,ikl->ijl', matrices, vectors).sum(axis=0)\n",
    "result2 = np.tensordot(matrices, vectors, axes=[[0,2],[0,1]])\n",
    "result3 = np.sum(matrices @ vectors, axis=0)\n",
    "assert np.allclose(result1, result2, result3)"
   ]
  },
  {
   "cell_type": "code",
   "execution_count": null,
   "metadata": {},
   "outputs": [],
   "source": [
    "# Ex59\n",
    "# Given a two dimensional array, how to extract unique rows?\n",
    "\n",
    "import time\n",
    "\n",
    "start = time.time()\n",
    "\n",
    "arr = np.random.randint(0,2,(5,2))\n",
    "# Solution 1\n",
    "T = np.ascontiguousarray(arr).view(np.dtype((np.void, arr.dtype.itemsize * arr.shape[1])))\n",
    "_, idx = np.unique(T, return_index=True)\n",
    "unique_arr = arr[idx]\n",
    "end1 = time.time()\n",
    "print(end1 - start)\n",
    "# print(unique_arr)\n",
    "# Solution 2\n",
    "unique_arr = np.unique(arr.view([('', arr.dtype)]*arr.shape[1])).view(arr.dtype).reshape(-1, arr.shape[1])\n",
    "end2 = time.time()\n",
    "print(end2 - end1)\n",
    "print(unique_arr)"
   ]
  },
  {
   "cell_type": "code",
   "execution_count": null,
   "metadata": {},
   "outputs": [],
   "source": [
    "# Ex64\n",
    "# Consider a given vector, how to add 1 to each element indexed by a second vector (be careful with repeated indices)?\n",
    "# SAME AS EX 34"
   ]
  },
  {
   "cell_type": "code",
   "execution_count": null,
   "metadata": {},
   "outputs": [],
   "source": [
    "# Ex74\n",
    "# Given an array C that is a bincount, how to produce an array A such that np.bincount(A) == C?\n",
    "\n",
    "C = np.bincount(np.random.randint(0,10,100))\n",
    "A = np.repeat(np.arange(len(C)), C)\n",
    "\n",
    "print(A)"
   ]
  },
  {
   "cell_type": "code",
   "execution_count": null,
   "metadata": {},
   "outputs": [],
   "source": [
    "# Ex78\n",
    "#Already done"
   ]
  },
  {
   "cell_type": "code",
   "execution_count": null,
   "metadata": {},
   "outputs": [],
   "source": [
    "# Ex83\n",
    "# How to find the most frequent value in an array?\n",
    "\n",
    "arr = np.random.randint(0,10,100)\n",
    "most_frequent = np.bincount(arr).argmax()\n",
    "print(most_frequent)"
   ]
  },
  {
   "cell_type": "code",
   "execution_count": null,
   "metadata": {},
   "outputs": [],
   "source": [
    "# Ex86\n",
    "# Already done"
   ]
  },
  {
   "cell_type": "code",
   "execution_count": null,
   "metadata": {},
   "outputs": [],
   "source": [
    "# Ex87\n",
    "# Consider a 16x16 array, how to get the block-sum (block size is 4x4)?\n",
    "\n",
    "import time \n",
    "\n",
    "arr = np.ones((16,16))\n",
    "start = time.time()\n",
    "# Solution 1\n",
    "\n",
    "block_sum = np.add.reduceat(np.add.reduceat(arr, np.arange(0, arr.shape[0], 4), axis=0), np.arange(0, arr.shape[1], 4), axis=1)\n",
    "snap1 = time.time()\n",
    "print(snap1 - start)\n",
    "# Solution 2\n",
    "block_sum = np.zeros((4,4))\n",
    "for i in range(4):\n",
    "    for j in range(4):\n",
    "        block_sum[i,j] = arr[i::4,j::4].sum()\n",
    "snap2 = time.time()\n",
    "print(snap2 - snap1)\n",
    "# print(block_sum)"
   ]
  },
  {
   "cell_type": "code",
   "execution_count": null,
   "metadata": {},
   "outputs": [],
   "source": [
    "# Ex89\n",
    "# How to get the n largest values of an array\n",
    "\n",
    "arr = np.random.randint(0,1000,100)\n",
    "n = 5\n",
    "\n",
    "# Solution 1\n",
    "n_largest = arr[np.argsort(arr)[-n:]]\n",
    "\n",
    "# Solution 2\n",
    "n_largest = arr[np.argpartition(arr, -n)[-n:]]\n",
    "\n",
    "print(n_largest)\n",
    "\n",
    "\n",
    "\n"
   ]
  },
  {
   "cell_type": "code",
   "execution_count": null,
   "metadata": {},
   "outputs": [],
   "source": [
    "# Ex93\n",
    "# COnsider two arrays A and B of shape (8,3) and (2,2). How to find rows of A that contain elements of each row of B regardless of the order of the elements in B?\n",
    "\n",
    "# Already done\n"
   ]
  },
  {
   "cell_type": "code",
   "execution_count": null,
   "metadata": {},
   "outputs": [],
   "source": [
    "# Ex94\n",
    "# Considering a 10x3 matrix, extract rows with unequal values (e.g. [2,2,3])\n",
    "\n",
    "mat = np.random.randint(0,2,(10,3))\n",
    "# Solution 1\n",
    "non_uniform_rows = np.all(mat[:,1:] == mat[:,:-1], axis=1)\n",
    "extracted_rows = mat[~non_uniform_rows]\n",
    "print(extracted_rows)"
   ]
  },
  {
   "cell_type": "code",
   "execution_count": null,
   "metadata": {},
   "outputs": [],
   "source": [
    "# Ex96\n",
    "# Given a two dimensional array, how to extract unique rows?\n",
    "\n",
    "# Already done"
   ]
  },
  {
   "cell_type": "code",
   "execution_count": 121,
   "metadata": {},
   "outputs": [],
   "source": [
    "# Ex99\n",
    "# Given an integer n and a 2D array X, select from X the rows which can be interpreted as draws from a multinomial distribution with n degrees, i.e., the rows which only contain integers and which sum to n\n",
    "\n",
    "n = 10\n",
    "# Create a 2D array with random integers and half of them are not integers\n",
    "X = np.random.randint(0,10,(100,10))\n",
    "X[np.random.randint(0,100,5), np.random.randint(0,10,5)] = np.random.random(5)\n",
    "# Solution 1\n",
    "valid_rows1 = np.logical_and.reduce(np.mod(X, 1) == 0, axis=1)\n",
    "valid_rows1 = np.logical_and(valid_rows1, np.sum(X, axis=1) == n)\n",
    "# Solution 2\n",
    "valid_rows2 = np.all(np.mod(X, 1) == 0, axis=1)\n",
    "valid_rows2 = np.logical_and(valid_rows2, np.sum(X, axis=1) == n)\n",
    "# Solution 3\n",
    "valid_rows3 = np.logical_and.reduce(np.mod(X, 1) == 0, axis=1)\n",
    "valid_rows3 &= np.sum(X, axis=1) == n\n",
    "\n",
    "assert np.allclose(valid_rows1, valid_rows2, valid_rows3)\n"
   ]
  }
 ],
 "metadata": {
  "kernelspec": {
   "display_name": "librosa",
   "language": "python",
   "name": "python3"
  },
  "language_info": {
   "codemirror_mode": {
    "name": "ipython",
    "version": 3
   },
   "file_extension": ".py",
   "mimetype": "text/x-python",
   "name": "python",
   "nbconvert_exporter": "python",
   "pygments_lexer": "ipython3",
   "version": "3.10.4"
  },
  "orig_nbformat": 4,
  "vscode": {
   "interpreter": {
    "hash": "68990369dbd1e9394bee0e5a26ce0dcb2645a620c500056b6bd9de852964a963"
   }
  }
 },
 "nbformat": 4,
 "nbformat_minor": 2
}
